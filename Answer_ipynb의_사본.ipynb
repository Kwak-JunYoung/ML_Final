{
  "nbformat": 4,
  "nbformat_minor": 0,
  "metadata": {
    "colab": {
      "name": "Answer.ipynb의 사본",
      "provenance": [],
      "collapsed_sections": [],
      "include_colab_link": true
    },
    "kernelspec": {
      "name": "python3",
      "display_name": "Python 3"
    }
  },
  "cells": [
    {
      "cell_type": "markdown",
      "metadata": {
        "id": "view-in-github",
        "colab_type": "text"
      },
      "source": [
        "<a href=\"https://colab.research.google.com/github/Kwak-JunYoung/ML_Final/blob/main/Answer_ipynb%EC%9D%98_%EC%82%AC%EB%B3%B8.ipynb\" target=\"_parent\"><img src=\"https://colab.research.google.com/assets/colab-badge.svg\" alt=\"Open In Colab\"/></a>"
      ]
    },
    {
      "cell_type": "markdown",
      "metadata": {
        "id": "qssAVJoBlyfF"
      },
      "source": [
        "# Machine Learning, Spring 2020, Final Project\n",
        "\n",
        "## Image Classification with Noisy Labels\n",
        "\n",
        "1. Download ```final_project.pdf```, ```Kaggle & Colab Guide.pptx```, and ```utils.py``` from i-campus.\n",
        "2. Go to [Kaggle competition page](https://www.naver.com), join Kaggle & competition, and download dataset.\n",
        "3. Following guide slides, upload ```utils.py```.\n",
        "4. Mount Google Drive.\n",
        "5. Implement your own model and predict on test images.\n",
        "6. Download and submit ```submission.csv``` to Kaggle.\n",
        "7. Write a report on your project and submit on i-campus."
      ]
    },
    {
      "cell_type": "code",
      "source": [
        "from google.colab import drive\n",
        "drive.mount('/content/drive')"
      ],
      "metadata": {
        "colab": {
          "base_uri": "https://localhost:8080/"
        },
        "id": "q6cWY8QBovOg",
        "outputId": "168641e7-6820-4077-8351-7e48cb9a55ca"
      },
      "execution_count": 1,
      "outputs": [
        {
          "output_type": "stream",
          "name": "stdout",
          "text": [
            "Mounted at /content/drive\n"
          ]
        }
      ]
    },
    {
      "cell_type": "markdown",
      "metadata": {
        "id": "xOvOEV5rmCYu"
      },
      "source": [
        "# INITIAL PACKAGES"
      ]
    },
    {
      "cell_type": "code",
      "metadata": {
        "id": "hRqwRAFkl4-r"
      },
      "source": [
        "# INITIAL PACKAGES\n",
        "import os\n",
        "import numpy as np\n",
        "import pandas as pd\n",
        "\n",
        "from utils import load_data, run"
      ],
      "execution_count": 7,
      "outputs": []
    },
    {
      "cell_type": "markdown",
      "metadata": {
        "id": "MZUsyNe95i_o"
      },
      "source": [
        "## Mount Google Drive\n",
        "\n",
        "Assmue you made ```final_project``` directory on the root,\n",
        "and data files are there."
      ]
    },
    {
      "cell_type": "code",
      "metadata": {
        "id": "MDM_tdygDwZm",
        "colab": {
          "base_uri": "https://localhost:8080/"
        },
        "outputId": "1e917d6e-41f3-43c2-b07e-06f7c68d5b1a"
      },
      "source": [
        "from google.colab import drive\n",
        "drive.mount('/content/gdrive')"
      ],
      "execution_count": 3,
      "outputs": [
        {
          "output_type": "stream",
          "name": "stdout",
          "text": [
            "Mounted at /content/gdrive\n"
          ]
        }
      ]
    },
    {
      "cell_type": "code",
      "metadata": {
        "id": "5qRW-lZn5qQ8",
        "colab": {
          "base_uri": "https://localhost:8080/"
        },
        "outputId": "d481672c-9397-48ca-946d-a10083417190"
      },
      "source": [
        "gdrive_root = '/content/gdrive/MyDrive'\n",
        "data_path = os.path.join(gdrive_root, 'final_project')\n",
        "os.listdir(data_path)"
      ],
      "execution_count": 8,
      "outputs": [
        {
          "output_type": "execute_result",
          "data": {
            "text/plain": [
              "['test_id.csv',\n",
              " 'sample_submission.csv',\n",
              " 'test_input.npy',\n",
              " 'train_id_answer.csv',\n",
              " 'train_input.npy',\n",
              " 'valid_id_answer.csv',\n",
              " 'valid_input.npy']"
            ]
          },
          "metadata": {},
          "execution_count": 8
        }
      ]
    },
    {
      "cell_type": "code",
      "metadata": {
        "id": "UyVzURjPKEbn"
      },
      "source": [
        "train_data, valid_data, test_data = load_data(data_path)"
      ],
      "execution_count": 9,
      "outputs": []
    },
    {
      "cell_type": "code",
      "metadata": {
        "id": "R31c7TpoKFcb",
        "colab": {
          "base_uri": "https://localhost:8080/",
          "height": 413
        },
        "outputId": "bcd67ab8-7b12-4115-ea81-983f1fa366a9"
      },
      "source": [
        "print(f'train id label:\\n {train_data[0].head()}')\n",
        "print(f'train images shape: {train_data[1].shape}\\n')\n",
        "assert len(train_data[0]) == len(train_data[1])\n",
        "\n",
        "print(f'valid id label:\\n {valid_data[0].head()}')\n",
        "print(f'valid images shape: {valid_data[1].shape}\\n')\n",
        "assert len(valid_data[0]) == len(valid_data[1])\n",
        "\n",
        "print(f'test id:\\n {test_data[0].head()}')\n",
        "print(f'test images shape: {test_data[1].shape}\\n')\n",
        "assert len(test_data[0]) == len(test_data[1])"
      ],
      "execution_count": 10,
      "outputs": [
        {
          "output_type": "stream",
          "name": "stdout",
          "text": [
            "train id label:\n",
            "            id    answer\n",
            "0  Z1HpN8DdqD -0.897532\n",
            "1  4kZUPHdZCm  0.222965\n",
            "2  4B9Zruxygn  3.562945\n",
            "3  8BhHCriaH2  2.666667\n",
            "4  mkYyKwYdek -2.083333\n",
            "train images shape: (739, 142, 60, 11)\n",
            "\n"
          ]
        },
        {
          "output_type": "error",
          "ename": "AssertionError",
          "evalue": "ignored",
          "traceback": [
            "\u001b[0;31m---------------------------------------------------------------------------\u001b[0m",
            "\u001b[0;31mAssertionError\u001b[0m                            Traceback (most recent call last)",
            "\u001b[0;32m<ipython-input-10-98f4c6a5f182>\u001b[0m in \u001b[0;36m<module>\u001b[0;34m()\u001b[0m\n\u001b[1;32m      1\u001b[0m \u001b[0mprint\u001b[0m\u001b[0;34m(\u001b[0m\u001b[0;34mf'train id label:\\n {train_data[0].head()}'\u001b[0m\u001b[0;34m)\u001b[0m\u001b[0;34m\u001b[0m\u001b[0;34m\u001b[0m\u001b[0m\n\u001b[1;32m      2\u001b[0m \u001b[0mprint\u001b[0m\u001b[0;34m(\u001b[0m\u001b[0;34mf'train images shape: {train_data[1].shape}\\n'\u001b[0m\u001b[0;34m)\u001b[0m\u001b[0;34m\u001b[0m\u001b[0;34m\u001b[0m\u001b[0m\n\u001b[0;32m----> 3\u001b[0;31m \u001b[0;32massert\u001b[0m \u001b[0mlen\u001b[0m\u001b[0;34m(\u001b[0m\u001b[0mtrain_data\u001b[0m\u001b[0;34m[\u001b[0m\u001b[0;36m0\u001b[0m\u001b[0;34m]\u001b[0m\u001b[0;34m)\u001b[0m \u001b[0;34m==\u001b[0m \u001b[0mlen\u001b[0m\u001b[0;34m(\u001b[0m\u001b[0mtrain_data\u001b[0m\u001b[0;34m[\u001b[0m\u001b[0;36m1\u001b[0m\u001b[0;34m]\u001b[0m\u001b[0;34m)\u001b[0m\u001b[0;34m\u001b[0m\u001b[0;34m\u001b[0m\u001b[0m\n\u001b[0m\u001b[1;32m      4\u001b[0m \u001b[0;34m\u001b[0m\u001b[0m\n\u001b[1;32m      5\u001b[0m \u001b[0mprint\u001b[0m\u001b[0;34m(\u001b[0m\u001b[0;34mf'valid id label:\\n {valid_data[0].head()}'\u001b[0m\u001b[0;34m)\u001b[0m\u001b[0;34m\u001b[0m\u001b[0;34m\u001b[0m\u001b[0m\n",
            "\u001b[0;31mAssertionError\u001b[0m: "
          ]
        }
      ]
    },
    {
      "cell_type": "markdown",
      "metadata": {
        "id": "2jyZX7csmRzj"
      },
      "source": [
        "---"
      ]
    },
    {
      "cell_type": "markdown",
      "metadata": {
        "id": "IQTSxSQdmVoD"
      },
      "source": [
        "# SHOW YOUR WORK\n",
        "From here, import packages you need as long as they are permitted. <br>\n",
        "Fill ```train_and_predict``` function with your codes. <br>\n",
        "If you want, you can implement your own classes or functions within \"SHOW YOUR WOKR\" block. <br>\n",
        "The rest of work is ours."
      ]
    },
    {
      "cell_type": "code",
      "metadata": {
        "id": "4feaJ6yVmZPX"
      },
      "source": [
        "# IMPORT PACKAGES YOU NEED\n",
        "\n",
        "\n"
      ],
      "execution_count": null,
      "outputs": []
    },
    {
      "cell_type": "code",
      "metadata": {
        "id": "Cl5hOI1mnP2B"
      },
      "source": [
        "# YOUR OWN CLASSES OR FUNCTIONS\n",
        "\n"
      ],
      "execution_count": null,
      "outputs": []
    },
    {
      "cell_type": "code",
      "metadata": {
        "id": "hAadQh8Bmbwx"
      },
      "source": [
        "def train_and_predict(train_data, valid_data, test_data):\n",
        "    \"\"\"Train a model and return prediction on test images.\n",
        "\n",
        "    Given train and valid data, build your model and optimize.\n",
        "    Then, return predictions on test_images.\n",
        "\n",
        "    You can import packages you want inside 'EDIT HERE' as long as they are permitted.\n",
        "    (See document for the list of possible packages)\n",
        "\n",
        "    arguments:\n",
        "        train_data: tuple of (pandas.DataFrame, np.array).\n",
        "        - 0: pandas.DataFrame with columns ['id', 'label']\n",
        "          'id' contains unique id assigned to each image.\n",
        "          'label' contains label (0 ~ # classes-1) corresponding to its image.\n",
        "        - 1: train image in np.array of (# train data, # channel, height, width)\n",
        "\n",
        "        valid_data: tuple of (pandas.DataFrame, np.array).\n",
        "        - 0: pandas.DataFrame with columns ['id', 'label']\n",
        "          'id' contains unique id assigned to each image.\n",
        "          'label' contains label (0 ~ # classes-1) corresponding to its image.\n",
        "        - 1: valid image in np.array of (# valid data, # channel, height, width)\n",
        "\n",
        "        test_data: tuple of (pandas.DataFrame, np.array).\n",
        "        - 0: pandas.DataFrame with columns ['id']\n",
        "          'id' contains unique id assigned to each image.\n",
        "        - 1: test image in np.array of (# test data, # channel, height, width)\n",
        "    \n",
        "    returns:\n",
        "        pandas.DataFrame, predictions on test images with columns ['id', 'label'].\n",
        "        'id' should contain unique id assigned to test images. \n",
        "        'label' should contain prediction on the test image correspond to its id\n",
        "\n",
        "    \"\"\"\n",
        "    # Example code:\n",
        "    train_id_label, train_images = train_data\n",
        "    valid_id_label, valid_images = valid_data\n",
        "    test_id, test_images = test_data\n",
        "\n",
        "    num_train = len(train_images)\n",
        "    num_valid = len(valid_images)\n",
        "    num_test = len(test_images)\n",
        "\n",
        "    # BUILD YOUR MODEL\n",
        "    # Example: Random prediction\n",
        "    random_label = np.random.choice(14, num_test)\n",
        "\n",
        "    \n",
        "    \n",
        "    \n",
        "    \n",
        "    \n",
        "    \n",
        "    \n",
        "    # Make prediction data frame\n",
        "    test_id['label'] = random_label\n",
        "    pred = test_id.loc[:, ['id', 'label']]\n",
        "\n",
        "    return pred"
      ],
      "execution_count": null,
      "outputs": []
    },
    {
      "cell_type": "markdown",
      "metadata": {
        "id": "uz7Fho1vmdRa"
      },
      "source": [
        "---"
      ]
    },
    {
      "cell_type": "markdown",
      "metadata": {
        "id": "QSTAchdzmfB6"
      },
      "source": [
        "# YOUR WORK IS DONE!\n",
        "Do not touch any line below. <br>\n",
        "```run``` function will grap your prediction and make ```submission.csv```. <br>\n",
        "Take it and submit to Kaggle!"
      ]
    },
    {
      "cell_type": "code",
      "metadata": {
        "id": "TDXCvXCimjAc"
      },
      "source": [
        "run(train_and_predict, train_data, valid_data, test_data)"
      ],
      "execution_count": null,
      "outputs": []
    }
  ]
}